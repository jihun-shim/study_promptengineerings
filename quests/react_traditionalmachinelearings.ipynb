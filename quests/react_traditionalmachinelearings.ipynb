{
 "cells": [
  {
   "cell_type": "code",
   "execution_count": 5,
   "metadata": {},
   "outputs": [],
   "source": [
    "import pandas as pd\n",
    "import numpy as np"
   ]
  },
  {
   "cell_type": "code",
   "execution_count": 6,
   "metadata": {},
   "outputs": [],
   "source": [
    "# 데이터 로드\n",
    "data = {\n",
    "    \"Date\": [\"2006-01-03\", \"2006-01-04\", \"2006-01-05\", \"2006-01-06\", \"2006-01-09\"],\n",
    "    \"High\": [40.36, 40.14, 39.81, 40.24, 40.72],\n",
    "    \"Low\": [39.3, 39.42, 39.5, 39.55, 39.88],\n",
    "    \"Open\": [39.83, 39.77, 39.61, 39.92, 39.88],\n",
    "    \"Close\": [40.18, 39.61, 39.74, 40.02, 40.66],\n",
    "    \"Volume\": [12838600, 13491500, 8109400, 7966900, 16575200],\n",
    "    \"Adj Close\": [27.01, 26.86, 26.93, 27.13, 27.57],\n",
    "}\n",
    "\n",
    "df = pd.DataFrame(data)\n"
   ]
  },
  {
   "cell_type": "code",
   "execution_count": 7,
   "metadata": {},
   "outputs": [],
   "source": [
    "# 1. 컬럼 구분\n",
    "continuous_columns = [\"High\", \"Low\", \"Open\", \"Close\", \"Volume\", \"Adj Close\"]\n",
    "categorical_columns = [\"Date\"]\n",
    "\n",
    "# 2. 범주형 데이터를 연속형으로 변환\n",
    "df[\"Date\"] = pd.to_datetime(df[\"Date\"])\n",
    "df[\"Date\"] = (df[\"Date\"] - df[\"Date\"].min()).dt.days  # 기준일로부터 일수 계산\n",
    "\n",
    "# 3. 결측치 처리\n",
    "for col in continuous_columns:\n",
    "    df[col] = df[col].fillna(df[col].mean())  # 결측치를 평균으로 대체\n"
   ]
  },
  {
   "cell_type": "code",
   "execution_count": 8,
   "metadata": {},
   "outputs": [
    {
     "name": "stdout",
     "output_type": "stream",
     "text": [
      "   Date   High    Low   Open  Close    Volume  Adj Close\n",
      "0     0  40.36  39.30  39.83  40.18  12838600      27.01\n",
      "1     1  40.14  39.42  39.77  39.61  13491500      26.86\n",
      "2     2  39.81  39.50  39.61  39.74   8109400      26.93\n",
      "3     3  40.24  39.55  39.92  40.02   7966900      27.13\n",
      "4     6  40.72  39.88  39.88  40.66  16575200      27.57\n"
     ]
    }
   ],
   "source": [
    "# 4. 최종 데이터 확인\n",
    "print(df)"
   ]
  },
  {
   "cell_type": "markdown",
   "metadata": {},
   "source": [
    "#### 머신러닝 label 맞게 진행"
   ]
  },
  {
   "cell_type": "code",
   "execution_count": null,
   "metadata": {},
   "outputs": [],
   "source": []
  }
 ],
 "metadata": {
  "kernelspec": {
   "display_name": "Python 3",
   "language": "python",
   "name": "python3"
  },
  "language_info": {
   "codemirror_mode": {
    "name": "ipython",
    "version": 3
   },
   "file_extension": ".py",
   "mimetype": "text/x-python",
   "name": "python",
   "nbconvert_exporter": "python",
   "pygments_lexer": "ipython3",
   "version": "3.8.10"
  }
 },
 "nbformat": 4,
 "nbformat_minor": 2
}
