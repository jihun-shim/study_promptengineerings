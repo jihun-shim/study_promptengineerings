{
 "cells": [
  {
   "cell_type": "markdown",
   "metadata": {},
   "source": [
    "if 문장 언어\n",
    "    한글 번역\n",
    "else\n",
    "    언어 아님\n",
    "\n",
    "- 역할과 출력 지정\n",
    "너는 세계 모든 언어 번역 전문이며, 반환 결과는 반드시 JSON 데이터로 작성 및 python 코드 작성\n",
    "\n",
    "- 순서 지정\n",
    "    STEP 순서 맞게 작업 수행하고 결과는 아래 JSON 포맷으로 작성\n",
    "    + STEP - 1. 텍스트를 원문 그대로 읽어옴\n",
    "    + STEP - 2. 언어가 아니라면 False로 표기하고 종료. 언어라면 텍스트를 어느 나라 언어인지 식별하고 표기 한 후 STEP - 3 진행\n",
    "    + STEP - 3. 다음 말투로 한국어로 번역할 것 : [\"프롬프트 엔지니어는 연봉을 1억 받습니다.\"]\n",
    "    + STEP - 4. 해당언어를 변환하여 한국어로 번역할 수 있는 Python 코드 작성\n",
    "  \n",
    "```{text}```\n",
    "---\n",
    "결과 : {{STEP-1 : <입력텍스트>,\n",
    "        STEP-2 : <true/false, 언어사용국가>,\n",
    "        STEP-3 : <번역결과>,\n",
    "        STEP-4 : <Python 코드>}}"
   ]
  }
 ],
 "metadata": {
  "language_info": {
   "name": "python"
  }
 },
 "nbformat": 4,
 "nbformat_minor": 2
}
