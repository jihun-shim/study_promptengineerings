{
 "cells": [
  {
   "cell_type": "markdown",
   "metadata": {},
   "source": [
    "## SC(Self Consistency)\n",
    "- 신뢰성 향상 위해 여러 답에 빈도값으로 판단\n",
    "- 집단 지성 사용"
   ]
  },
  {
   "cell_type": "code",
   "execution_count": 1,
   "metadata": {},
   "outputs": [
    {
     "ename": "KeyError",
     "evalue": "'OPENAI_API_KEY'",
     "output_type": "error",
     "traceback": [
      "\u001b[0;31m---------------------------------------------------------------------------\u001b[0m",
      "\u001b[0;31mKeyError\u001b[0m                                  Traceback (most recent call last)",
      "Cell \u001b[0;32mIn[1], line 4\u001b[0m\n\u001b[1;32m      1\u001b[0m \u001b[38;5;28;01mfrom\u001b[39;00m\u001b[38;5;250m \u001b[39m\u001b[38;5;21;01mopenai\u001b[39;00m\u001b[38;5;250m \u001b[39m\u001b[38;5;28;01mimport\u001b[39;00m OpenAI\n\u001b[1;32m      3\u001b[0m \u001b[38;5;28;01mimport\u001b[39;00m\u001b[38;5;250m \u001b[39m\u001b[38;5;21;01mos\u001b[39;00m\n\u001b[0;32m----> 4\u001b[0m \u001b[43mos\u001b[49m\u001b[38;5;241;43m.\u001b[39;49m\u001b[43menviron\u001b[49m\u001b[43m[\u001b[49m\u001b[38;5;124;43m'\u001b[39;49m\u001b[38;5;124;43mOPENAI_API_KEY\u001b[39;49m\u001b[38;5;124;43m'\u001b[39;49m\u001b[43m]\u001b[49m \n",
      "File \u001b[0;32m/usr/lib/python3.8/os.py:675\u001b[0m, in \u001b[0;36m_Environ.__getitem__\u001b[0;34m(self, key)\u001b[0m\n\u001b[1;32m    672\u001b[0m     value \u001b[38;5;241m=\u001b[39m \u001b[38;5;28mself\u001b[39m\u001b[38;5;241m.\u001b[39m_data[\u001b[38;5;28mself\u001b[39m\u001b[38;5;241m.\u001b[39mencodekey(key)]\n\u001b[1;32m    673\u001b[0m \u001b[38;5;28;01mexcept\u001b[39;00m \u001b[38;5;167;01mKeyError\u001b[39;00m:\n\u001b[1;32m    674\u001b[0m     \u001b[38;5;66;03m# raise KeyError with the original key value\u001b[39;00m\n\u001b[0;32m--> 675\u001b[0m     \u001b[38;5;28;01mraise\u001b[39;00m \u001b[38;5;167;01mKeyError\u001b[39;00m(key) \u001b[38;5;28;01mfrom\u001b[39;00m\u001b[38;5;250m \u001b[39m\u001b[38;5;28;01mNone\u001b[39;00m\n\u001b[1;32m    676\u001b[0m \u001b[38;5;28;01mreturn\u001b[39;00m \u001b[38;5;28mself\u001b[39m\u001b[38;5;241m.\u001b[39mdecodevalue(value)\n",
      "\u001b[0;31mKeyError\u001b[0m: 'OPENAI_API_KEY'"
     ]
    }
   ],
   "source": [
    "from openai import OpenAI\n",
    "\n",
    "import os\n",
    "os.environ['OPENAI_API_KEY'] "
   ]
  },
  {
   "cell_type": "code",
   "execution_count": null,
   "metadata": {},
   "outputs": [],
   "source": [
    "from collections import defaultdict\n",
    "import re\n",
    "\n",
    "\n",
    "client = OpenAI(api_key=os.getenv(\"OPENAI_API_KEY\"))\n",
    "\n",
    "def get_most_frequent_answer(template, iterations=10):\n",
    "    answers = defaultdict(int)#존재하지 않는 키로 접근하면 0을 반환하도록 하는 함수\n",
    "    \n",
    "    for idx in range(iterations):\n",
    "        context = [{\"role\": \"user\", \"content\": template}]\n",
    "        response = client.chat.completions.create(\n",
    "            model=\"gpt-3.5-turbo-0125\",\n",
    "            messages=context,\n",
    "            temperature=0.3,\n",
    "            #top_p=0,\n",
    "            seed=12345,\n",
    "        ).model_dump()\n",
    "        response_content = response['choices'][0]['message']['content']\n",
    "        print(f\"\\n{idx+1}번째 샘플:\")\n",
    "        print(response_content)\n",
    "         # 답변에서 \"정답: XX분\" 형태로 시간을 추출\n",
    "        match = re.search(r\"정답: (\\d+분)\", response_content)\n",
    "        if match:\n",
    "            parsed_answer = match.group(1)\n",
    "            answers[parsed_answer] += 1\n",
    "            \n",
    "    # 가장 빈도가 높은 답변을 선택\n",
    "    sorted_answers = sorted(answers.items(), key=lambda x: x[1], reverse=True)\n",
    "    print(f\"\\n빈도표: {sorted_answers}\")\n",
    "    most_frequent_answer = sorted_answers[0][0]\n",
    "    return most_frequent_answer\n",
    "\n",
    "# most_frequent_answer = get_most_frequent_answer(template)\n",
    "# print(\"최빈값:\", most_frequent_answer)"
   ]
  },
  {
   "cell_type": "code",
   "execution_count": 5,
   "metadata": {},
   "outputs": [],
   "source": [
    "contents = \"\"\"\n",
    "질문1:\n",
    "공항 A에서 4대의 다른 무게의 헬리콥터를 모두 공항 B로 옮겨야 합니다. 헬리콥터의 무게는 1톤, 3톤, 6톤, 9톤이며, 이 헬리콥터가 공항 A에서 공항 B까지 이동하는 데 걸리는 시간은 각각 2시간, 3시간, 5시간, 10시간입니다. 모든 헬리콥터는 그보다 가벼운 헬리콥터를 딱 한 대만 실을 수 있습니다. 이 경우 이동하는 데 걸리는 시간은 둘 중 무거운 헬리콥터의 이동시간과 같습니다. 가장 빠르게 옮기면 몇시간이 걸릴까요?\n",
    "답변:\n",
    "3톤 헬리콥터에 1톤 헬리콥터를 싣고 공항 B로 이동합니다. 이동에는 3시간이 걸립니다.\n",
    "3톤 헬리콥터가 공항 A로 돌아옵니다. 다시 3시간이 걸립니다. (지금까지 6시간)\n",
    "9톤 헬리콥터에 6톤 헬리콥터를 싣고 공항 B로 이동합니다. 이동에는 10시간이 걸립니다. (지금까지 16시간)\n",
    "공항 A에 있는 1톤 헬리콥터를 타고 공항 B로 돌아옵니다. 2시간이 걸립니다. (지금까지 18시간)\n",
    "마지막으로, 3톤 헬리콥터에 1톤 헬리콥터를 싣고 공항 B로 이동합니다. 이동에는 3시간이 걸립니다. (지금까지 21시간)\n",
    "정답: 21시간\n",
    "```\n",
    "질문2:\n",
    "닭, 쌀, 과일을 마을로 옮겨야 합니다. 닭은 1시간, 쌀은 2시간, 과일은 4시간이 소요됩니다. 농장에서 마을까지 이동하는 데는 최대 9시간이 걸릴 수 있습니다. 닭은 쌀과 과일을 먹을 수 있으므로 닭과 쌀 또는 과일을 동시에 옮길 수 없습니다. 어떻게 해야 마을로 모든 물건을 옮길 수 있을까요?\n",
    "답변:\n",
    "닭을 먼저 마을로 보냅니다. 이동 1시간, 총합 1시간.\n",
    "농장으로 돌아옵니다. 이동 1시간, 총합 2시간.\n",
    "과일을 마을로 보냅니다. 이동 4시간, 총합 6시간.\n",
    "닭을 다시 농장으로 데려옵니다. 이동 1시간, 총합 7시간.\n",
    "쌀을 마을로 보냅니다. 이동 2시간, 총합 9시간.\n",
    "정답: 9시간\n",
    "```\n",
    "질문3:\n",
    "4명의 탐험가가 동굴을 탐험하려고 합니다. 각 탐험가는 동굴을 지나가는 데 다음과 같은 시간이 걸립니다: 1분, 2분, 5분, 10분. 한 번에 최대 두 명만 동굴을 지날 수 있으며, 그들은 횃불을 가지고 가야 합니다. 횃불은 하나뿐이며, 탐험가가 동굴을 지나갈 때마다 횃불을 가져가야 합니다. 모든 탐험가가 동굴을 지나가려면 어떻게 해야 가장 빠르게 지나갈 수 있을까요? 마지막에 소요시간을 '정답:<정답>' 형식으로 작성하세요.\n",
    "답변:\n",
    "\"\"\""
   ]
  },
  {
   "cell_type": "code",
   "execution_count": 6,
   "metadata": {},
   "outputs": [
    {
     "name": "stdout",
     "output_type": "stream",
     "text": [
      "\n",
      "1번째 샘플:\n",
      "1분과 2분인 탐험가를 함께 보내 동굴을 지나갑니다. 2분이 걸립니다.\n",
      "1분이 돌아와 5분과 10분인 탐험가를 함께 보내 동굴을 지나갑니다. 10분이 걸립니다.\n",
      "총 소요시간은 10분입니다.\n",
      "정답: 10분\n",
      "\n",
      "2번째 샘플:\n",
      "1분과 2분인 두 명이 함께 동굴을 지나갑니다. 2분이 걸립니다.\n",
      "1분이 돌아와 1분과 5분인 두 명이 함께 동굴을 지나갑니다. 5분이 걸립니다.\n",
      "2분이 돌아와 2분과 10분인 두 명이 함께 동굴을 지나갑니다. 10분이 걸립니다.\n",
      "정답: 10분\n",
      "\n",
      "3번째 샘플:\n",
      "1분과 2분인 탐험가를 함께 보내 동굴을 지나갑니다. 2분이 걸립니다.\n",
      "1분이 돌아와 1분과 5분인 탐험가를 함께 보내 동굴을 지나갑니다. 5분이 걸립니다.\n",
      "2분이 돌아와 2분과 10분인 탐험가를 함께 보내 동굴을 지나갑니다. 10분이 걸립니다.\n",
      "정답: 10분\n",
      "\n",
      "4번째 샘플:\n",
      "1분과 2분인 탐험가가 함께 동굴을 지나갑니다. 2분이 걸립니다.\n",
      "1분인 탐험가가 다시 동굴로 돌아갑니다. 1분이 걸립니다. (지금까지 3분)\n",
      "5분과 10분인 탐험가가 함께 동굴을 지나갑니다. 10분이 걸립니다. (지금까지 13분)\n",
      "2분인 탐험가가 다시 동굴로 돌아갑니다. 2분이 걸립니다. (지금까지 15분)\n",
      "1분과 2분인 탐험가가 함께 동굴을 지나갑니다. 2분이 걸립니다. (지금까지 17분)\n",
      "정답: 17분\n",
      "\n",
      "5번째 샘플:\n",
      "1분과 2분인 두 명이 함께 동굴을 지나갑니다. 2분이 걸립니다.\n",
      "1분이 돌아와 1분과 5분인 두 명이 함께 동굴을 지나갑니다. 5분이 걸립니다.\n",
      "2분이 돌아와 2분과 10분인 두 명이 함께 동굴을 지나갑니다. 10분이 걸립니다.\n",
      "정답: 10분\n",
      "\n",
      "6번째 샘플:\n",
      "1분과 2분인 두 명이 함께 동굴을 지나갑니다. 2분이 걸립니다.\n",
      "1분이 돌아와 1분과 5분인 두 명이 함께 동굴을 지나갑니다. 5분이 걸립니다.\n",
      "2분이 돌아와 2분과 10분인 두 명이 함께 동굴을 지나갑니다. 10분이 걸립니다.\n",
      "정답: 10분\n",
      "\n",
      "7번째 샘플:\n",
      "1분과 2분인 탐험가를 함께 보내 동굴을 지나갑니다. 2분이 걸립니다.\n",
      "1분이 돌아와 1분과 5분인 탐험가를 함께 보내 동굴을 지나갑니다. 5분이 걸립니다.\n",
      "2분이 돌아와 2분과 10분인 탐험가를 함께 보내 동굴을 지나갑니다. 10분이 걸립니다.\n",
      "정답: 10분\n",
      "\n",
      "빈도표: [('10분', 6), ('17분', 1)]\n"
     ]
    }
   ],
   "source": [
    "most_frequent_answer = get_most_frequent_answer(template = contents, iterations = 7)"
   ]
  },
  {
   "cell_type": "code",
   "execution_count": 8,
   "metadata": {},
   "outputs": [
    {
     "data": {
      "text/plain": [
       "(str, '10분')"
      ]
     },
     "execution_count": 8,
     "metadata": {},
     "output_type": "execute_result"
    }
   ],
   "source": [
    "type(most_frequent_answer), most_frequent_answer"
   ]
  },
  {
   "cell_type": "code",
   "execution_count": null,
   "metadata": {},
   "outputs": [],
   "source": []
  }
 ],
 "metadata": {
  "kernelspec": {
   "display_name": "Python 3",
   "language": "python",
   "name": "python3"
  },
  "language_info": {
   "codemirror_mode": {
    "name": "ipython",
    "version": 3
   },
   "file_extension": ".py",
   "mimetype": "text/x-python",
   "name": "python",
   "nbconvert_exporter": "python",
   "pygments_lexer": "ipython3",
   "version": "3.8.10"
  }
 },
 "nbformat": 4,
 "nbformat_minor": 2
}
