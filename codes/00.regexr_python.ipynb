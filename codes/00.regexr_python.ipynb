{
 "cells": [
  {
   "cell_type": "markdown",
   "metadata": {},
   "source": [
    "### 패턴 맞게 추출"
   ]
  },
  {
   "cell_type": "code",
   "execution_count": 19,
   "metadata": {},
   "outputs": [],
   "source": [
    "import re\n",
    "\n",
    "# 숫자 대상 추출\n",
    "# text = \"I have 2 apples and 15 oranges.\"\n",
    "# pattern=r\"\\d+\"\n",
    "\n",
    "# 문자 대상 추출\n",
    "text = \"I love Python because python is easy to learn. PYTHON\"\n",
    "# pattern=r\"python\" # 하나만 가져옴\n",
    "# pattern=r\"[pP]ython\" # 대상 모든 단어 가져옴\n",
    "pattern=r\"python\" \n",
    "\n",
    "\n",
    "matches = re.findall(pattern=pattern, string=text, flags=re.IGNORECASE) # r 은 레귤러로 작동동 f 와 비슷한 역활\n",
    "\n",
    "# flags=re.IGNORECASE # 대상 대소문 구분없이 모든 단어 가져옴"
   ]
  },
  {
   "cell_type": "code",
   "execution_count": 20,
   "metadata": {},
   "outputs": [
    {
     "data": {
      "text/plain": [
       "(list, 3, ['Python', 'python', 'PYTHON'])"
      ]
     },
     "execution_count": 20,
     "metadata": {},
     "output_type": "execute_result"
    }
   ],
   "source": [
    "# type(matches), matches[1]\n",
    "type(matches), len(matches), matches"
   ]
  },
  {
   "cell_type": "markdown",
   "metadata": {},
   "source": [
    "### 치환"
   ]
  },
  {
   "cell_type": "code",
   "execution_count": null,
   "metadata": {},
   "outputs": [],
   "source": [
    "text = \"Hello, world! How's it going?\"\n",
    "\n",
    "pattern = r\"[^\\w\\d\\s]\" # 기호만 선택  # \\d+ 숫자를 군집으로 인식\n",
    "replace_text = \"\"\n",
    "\n",
    "cleaned_text = re.sub(pattern=pattern, repl=replace_text, string=text)"
   ]
  },
  {
   "cell_type": "code",
   "execution_count": 23,
   "metadata": {},
   "outputs": [
    {
     "data": {
      "text/plain": [
       "(str, 'Hello world Hows it going')"
      ]
     },
     "execution_count": 23,
     "metadata": {},
     "output_type": "execute_result"
    }
   ],
   "source": [
    "type(cleaned_text), cleaned_text"
   ]
  },
  {
   "cell_type": "markdown",
   "metadata": {},
   "source": [
    "### replace 출력 순서조절"
   ]
  },
  {
   "cell_type": "code",
   "execution_count": 26,
   "metadata": {},
   "outputs": [],
   "source": [
    "text = \"The event is scheduled on 2025-01-21.\"\n",
    "\n",
    "pattern = r\"(\\d{4})-(\\d{2})-(\\d{2})\"  # ()는 group이고  번호 매김 된다. - 1, 2, 3    # \\d{} 숫자 군집 몇개까지 라고 이해 - 으로 위치 구분\n",
    "replace_text = r\"\\3=\\2=\\1\"       #\\3/\\2/\\1 pattern 위치 변경, \\3=\\2=\\1 형태 변경도 가능\n",
    "\n",
    "result_text = re.sub(pattern=pattern, repl=replace_text, string=text)"
   ]
  },
  {
   "cell_type": "code",
   "execution_count": 27,
   "metadata": {},
   "outputs": [
    {
     "data": {
      "text/plain": [
       "'The event is scheduled on 21=01=2025.'"
      ]
     },
     "execution_count": 27,
     "metadata": {},
     "output_type": "execute_result"
    }
   ],
   "source": [
    "result_text"
   ]
  },
  {
   "cell_type": "markdown",
   "metadata": {},
   "source": [
    "### search 와 group"
   ]
  },
  {
   "cell_type": "code",
   "execution_count": 28,
   "metadata": {},
   "outputs": [],
   "source": [
    "text = \"The event is scheduled on 2025-01-21.\"\n",
    "\n",
    "pattern = r\"(\\d{4})-(\\d{2})-(\\d{2})\"\n",
    "\n",
    "matches = re.search(pattern = pattern, string = text)"
   ]
  },
  {
   "cell_type": "code",
   "execution_count": 31,
   "metadata": {},
   "outputs": [
    {
     "data": {
      "text/plain": [
       "('2025-01-21', '2025', '01', '21')"
      ]
     },
     "execution_count": 31,
     "metadata": {},
     "output_type": "execute_result"
    }
   ],
   "source": [
    "matches.group(0), matches.group(1), matches.group(2), matches.group(3) # 그룹 번호 "
   ]
  },
  {
   "cell_type": "code",
   "execution_count": null,
   "metadata": {},
   "outputs": [],
   "source": []
  }
 ],
 "metadata": {
  "kernelspec": {
   "display_name": "Python 3",
   "language": "python",
   "name": "python3"
  },
  "language_info": {
   "codemirror_mode": {
    "name": "ipython",
    "version": 3
   },
   "file_extension": ".py",
   "mimetype": "text/x-python",
   "name": "python",
   "nbconvert_exporter": "python",
   "pygments_lexer": "ipython3",
   "version": "3.8.10"
  }
 },
 "nbformat": 4,
 "nbformat_minor": 2
}
